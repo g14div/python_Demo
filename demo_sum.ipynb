{
 "cells": [
  {
   "cell_type": "code",
   "execution_count": 1,
   "id": "16d249df-92ce-4c97-ba20-57f4fa9fdeb7",
   "metadata": {},
   "outputs": [],
   "source": [
    "a = 13"
   ]
  },
  {
   "cell_type": "code",
   "execution_count": 2,
   "id": "0d81b861-c1ca-46a5-b80f-3a8ed2b12fc1",
   "metadata": {},
   "outputs": [],
   "source": [
    "b = 17"
   ]
  },
  {
   "cell_type": "code",
   "execution_count": 3,
   "id": "e81149e7-7794-4ba5-9b4a-b734571258aa",
   "metadata": {},
   "outputs": [],
   "source": [
    "c = a + b"
   ]
  },
  {
   "cell_type": "code",
   "execution_count": 4,
   "id": "01049bfd-7b81-4898-a118-adca3d5066f9",
   "metadata": {},
   "outputs": [
    {
     "name": "stdout",
     "output_type": "stream",
     "text": [
      "30\n"
     ]
    }
   ],
   "source": [
    "print( c )"
   ]
  },
  {
   "cell_type": "code",
   "execution_count": null,
   "id": "847bd279-7f9d-4566-9f6a-faaf348fd05a",
   "metadata": {},
   "outputs": [],
   "source": []
  }
 ],
 "metadata": {
  "kernelspec": {
   "display_name": "Python 3 (ipykernel)",
   "language": "python",
   "name": "python3"
  },
  "language_info": {
   "codemirror_mode": {
    "name": "ipython",
    "version": 3
   },
   "file_extension": ".py",
   "mimetype": "text/x-python",
   "name": "python",
   "nbconvert_exporter": "python",
   "pygments_lexer": "ipython3",
   "version": "3.12.4"
  }
 },
 "nbformat": 4,
 "nbformat_minor": 5
}
